{
 "cells": [
  {
   "attachments": {},
   "cell_type": "markdown",
   "metadata": {},
   "source": [
    "## Identifying and Defining"
   ]
  },
  {
   "attachments": {},
   "cell_type": "markdown",
   "metadata": {},
   "source": [
    "Data: Description of the data you are looking to analyse.\n",
    "\n",
    "\n",
    "I am looking at data which describes global inflation rates which will help find the liveability in different countries"
   ]
  },
  {
   "attachments": {},
   "cell_type": "markdown",
   "metadata": {},
   "source": [
    "Goal: Explanation of what you want to find out using the data.\n",
    "\n",
    "\n",
    "I want to find out how much my country has increased their inflation prices and how much and compare it to other countries"
   ]
  },
  {
   "attachments": {},
   "cell_type": "markdown",
   "metadata": {},
   "source": [
    "Source: Link to the source of your data.\n",
    "\n",
    "\n",
    "kaggle kernels output onurrr90/inflation-trends-worldwide -p /path/to/dest"
   ]
  },
  {
   "attachments": {},
   "cell_type": "markdown",
   "metadata": {},
   "source": [
    "Access: Identification of whether the data is publicly available or not.\n",
    "\n",
    "\n",
    "Yes the data is publicly avaiable on kaggle and can be used by anyone"
   ]
  },
  {
   "attachments": {},
   "cell_type": "markdown",
   "metadata": {},
   "source": [
    "Access Method: How you will access the data (.csv or API)\n",
    "\n",
    "\n",
    "csv"
   ]
  },
  {
   "attachments": {},
   "cell_type": "markdown",
   "metadata": {},
   "source": [
    "## Non - Functional requirments"
   ]
  },
  {
   "attachments": {},
   "cell_type": "markdown",
   "metadata": {},
   "source": [
    "\n",
    "Usability: What is required from the User Interface and a 'README' document?\n",
    "\n",
    "\n",
    "The 'README' document should provide users a quick and understandable instructions on how the use the Dataface and get the information they wanted"
   ]
  },
  {
   "attachments": {},
   "cell_type": "markdown",
   "metadata": {},
   "source": [
    "Reliability: What is required from the system when providing information to the user on errors and ensuring data integrity?\n",
    "\n",
    "\n",
    "The data should be easily presentable and understandable to future user's who plan on using the dataset, and should be able to consistly get the information they want"
   ]
  },
  {
   "attachments": {},
   "cell_type": "markdown",
   "metadata": {},
   "source": [
    "## Functional Requirments"
   ]
  },
  {
   "attachments": {},
   "cell_type": "markdown",
   "metadata": {},
   "source": [
    "Data Loading: \n",
    "\n",
    "Description: The program should be able to load and read csv. files\n",
    "\n",
    "Input: A csv. file.\n",
    "\n",
    "Output: A fully processed csv. file."
   ]
  },
  {
   "attachments": {},
   "cell_type": "markdown",
   "metadata": {},
   "source": [
    "Data Cleaning: \n",
    "\n",
    "Description: The program should be able to clean and remove uncessary information.\n",
    "\n",
    "Input: processed csv file.\n",
    "\n",
    "Output: A Useable Pandas Dataframe\n",
    "\n"
   ]
  },
  {
   "attachments": {},
   "cell_type": "markdown",
   "metadata": {},
   "source": [
    "Data Analysis:\n",
    "\n",
    "Description: The system should identify the trend and important factors in the data.\n",
    "\n",
    "Input: Clean csv. file\n",
    "\n",
    "Output: shows trend in data"
   ]
  },
  {
   "attachments": {},
   "cell_type": "markdown",
   "metadata": {},
   "source": [
    "Data Visualisation: \n",
    "\n",
    "Description: the Data will be visualised using a Matplotlib chart\n",
    "\n",
    "Input: a csv. file that shows trends  \n",
    "\n",
    "Output: a Matoplib chart\n"
   ]
  },
  {
   "attachments": {},
   "cell_type": "markdown",
   "metadata": {},
   "source": [
    "Data Reporting: \n",
    "\n",
    "Description: Describe what the program needs to do.\n",
    "\n",
    "Input: a matoplib chart with informatipon\n",
    "\n",
    "Output: a matoplib chart in a png\n"
   ]
  },
  {
   "attachments": {},
   "cell_type": "markdown",
   "metadata": {},
   "source": [
    "## Use Cases"
   ]
  },
  {
   "attachments": {},
   "cell_type": "markdown",
   "metadata": {},
   "source": [
    "## Data Loading"
   ]
  },
  {
   "attachments": {},
   "cell_type": "markdown",
   "metadata": {},
   "source": [
    "Actor = User\n",
    "\n",
    "Goal =  To load a dataset into the system\n",
    "\n",
    "Preconditions: User has a dataset file ready.\n",
    "\n",
    "Main Flow:\n",
    "\n",
    "User places the dataset for reading into the correct folder.\n",
    "\n",
    "System validates the file format.\n",
    "\n",
    "System loads the dataset and displays the information in a dataframe.\n"
   ]
  },
  {
   "attachments": {},
   "cell_type": "markdown",
   "metadata": {},
   "source": [
    "## Data Cleaning"
   ]
  },
  {
   "attachments": {},
   "cell_type": "markdown",
   "metadata": {},
   "source": [
    "Actor = User\n",
    "\n",
    "Goal =  To look for patterns in data\n",
    "\n",
    "Preconditions: User has a dataset file ready.\n",
    "\n",
    "Main Flow: User places dataset for identifying trends\n",
    "\n",
    "System can remove unesscary information\n",
    "\n",
    "System loads cleaned data in datadrame for more analysis \n",
    "\n",
    "Post conditins data is cleaned and can be deciphered"
   ]
  },
  {
   "attachments": {},
   "cell_type": "markdown",
   "metadata": {},
   "source": [
    "## Data Analysis"
   ]
  },
  {
   "attachments": {},
   "cell_type": "markdown",
   "metadata": {},
   "source": [
    "\n",
    "Actor: User\n",
    "\n",
    "Goal: To look for a trend in clean data.\n",
    "\n",
    "Preconditions: The data file has been processed and cleaned.\n",
    "\n",
    "Main Flow:\n",
    "\n",
    "User places the dataset for identifying trends.\n",
    "\n",
    "System removes any unnecessary information.\n",
    " \n",
    "System loads the analysed data in a dataframe for visualisation.\n",
    "\n",
    "Postconditions The data trend has been found and is ready to be visualised\n"
   ]
  },
  {
   "attachments": {},
   "cell_type": "markdown",
   "metadata": {},
   "source": [
    "## Data Visualisation\n"
   ]
  },
  {
   "attachments": {},
   "cell_type": "markdown",
   "metadata": {},
   "source": [
    "Actor: User\n",
    "\n",
    "Goal: To visualise data using a matplotlib chart.\n",
    "\n",
    "Preconditions: The data has an identified trend.\n",
    "\n",
    "Main Flow:\n",
    "\n",
    "User places the dataset for finding trends.\n",
    "\n",
    "System removes any unnecessary information.\n",
    "\n",
    "System displays a matplotlib chart with trends.\n",
    "\n",
    "Postconditions: Data is visualised as a matplotlib chart and can be saved"
   ]
  },
  {
   "attachments": {},
   "cell_type": "markdown",
   "metadata": {},
   "source": [
    "## Data Reporting"
   ]
  },
  {
   "attachments": {},
   "cell_type": "markdown",
   "metadata": {},
   "source": [
    "\n",
    "Actor: User\n",
    "\n",
    "Goal: To save the matplotlib chart as a png.\n",
    "\n",
    "Preconditions: A matplotlib chart is ready to be saved.\n",
    "\n",
    "Main Flow:\n",
    "\n",
    "User places the data to save as a png and .csv file.\n",
    "\n",
    "System displays a matplotlib chart as a png.\n",
    "\n",
    "System displays the information as a .csv file.\n",
    "\n",
    "Postconditions: A .csv file and a png file displays the data.\n",
    "\n"
   ]
  },
  {
   "attachments": {},
   "cell_type": "markdown",
   "metadata": {},
   "source": [
    "# Researching and Planning"
   ]
  },
  {
   "attachments": {},
   "cell_type": "markdown",
   "metadata": {},
   "source": [
    "Purpose:\n",
    "\n",
    " the purpose of this data is to get a deeper look at global inflation prices and to be able to compare this through countires and over time. "
   ]
  },
  {
   "attachments": {},
   "cell_type": "markdown",
   "metadata": {},
   "source": [
    "Missing Data:\n",
    "\n",
    "A few countries are missing data from the 1980s as it wasn't as industrialised back then so they weren't able to gather the data."
   ]
  },
  {
   "attachments": {},
   "cell_type": "markdown",
   "metadata": {},
   "source": [
    "Stakeholders: \n",
    "\n",
    "People who are planning to move countries for any purpose."
   ]
  },
  {
   "attachments": {},
   "cell_type": "markdown",
   "metadata": {},
   "source": [
    "Use: \n",
    "\n",
    "It can help people find out the inflation rates in countries they are planning to go to find out the liveability \n"
   ]
  },
  {
   "attachments": {},
   "cell_type": "markdown",
   "metadata": {},
   "source": [
    "## Privacy and security"
   ]
  },
  {
   "attachments": {},
   "cell_type": "markdown",
   "metadata": {},
   "source": [
    "Data Privacy of Source: \n",
    "\n",
    "It should protect which countries the users look up or compare"
   ]
  },
  {
   "attachments": {},
   "cell_type": "markdown",
   "metadata": {},
   "source": [
    "Application Data Privacy: \n",
    "\n",
    "Making sure the user's data isn't accessible by the public so that it can't be viewed or used by other people."
   ]
  },
  {
   "attachments": {},
   "cell_type": "markdown",
   "metadata": {},
   "source": [
    " ## Data dictionary"
   ]
  },
  {
   "attachments": {},
   "cell_type": "markdown",
   "metadata": {},
   "source": [
    "| Field | Dataype | Format for display | Description | Example | Validation |\n",
    "|:--------:|:--------:|:--------:|:--------:|:--------:|:--------:|\n",
    "|  Country   |  Object   |  Row 1   |  To find out the country    |  Australia   |  has to be a country name so it can't unclude numbers only characters   |\n",
    "|  inflation rates   |  Object  |  NNN.N  |  To find out the inflation rate of that country    |  212.3   |  It has to include numbers and can on;y have one decimal places   |\n",
    "|  Year   |  Yeartime   |  YYY   |  To find out which year it is   |  1938   |  It can only be four numbers long    |"
   ]
  }
 ],
 "metadata": {
  "kernelspec": {
   "display_name": "Python 3",
   "language": "python",
   "name": "python3"
  },
  "language_info": {
   "name": "python",
   "version": "3.11.0"
  },
  "orig_nbformat": 4
 },
 "nbformat": 4,
 "nbformat_minor": 2
}
    "attachments": {},
   "cell_type": "markdown",
   "metadata": {},
   "source": [
    "Peer evaluation:\n",
    "\n",
    "Neil's code shows a lot of potential, showing all the requirements working. it is very easy and simple to use -Stephen"
    "\n",
    "Neil's code ticks all the boxes and it is capable of running everything efficiently, it has barely any delay and works seamlessly. -Ansh"
   ]
  }
 ],
